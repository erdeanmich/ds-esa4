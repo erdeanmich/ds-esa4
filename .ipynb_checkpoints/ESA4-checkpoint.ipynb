{
 "cells": [
  {
   "cell_type": "markdown",
   "id": "0c991944",
   "metadata": {},
   "source": [
    "# ESA4 "
   ]
  },
  {
   "cell_type": "markdown",
   "id": "8406fd2f",
   "metadata": {},
   "source": [
    "Load the countries.csv directly via URL import into your panda data frame!"
   ]
  },
  {
   "cell_type": "code",
   "execution_count": 16,
   "id": "c8229d0f",
   "metadata": {},
   "outputs": [],
   "source": [
    "import numpy as np\n",
    "import pandas as pd"
   ]
  },
  {
   "cell_type": "code",
   "execution_count": 17,
   "id": "25ef46e3",
   "metadata": {},
   "outputs": [],
   "source": [
    "url = \"https://raw.githubusercontent.com/edlich/eternalrepo/master/DS-WAHLFACH/countries.csv\"\n",
    "np_data = np.genfromtxt(url, delimiter=\",\", dtype=(object))\n",
    "pd_data = pd.read_csv(url)"
   ]
  },
  {
   "cell_type": "markdown",
   "id": "e4a9f6ac",
   "metadata": {},
   "source": [
    "Display some basic information as rows, columns and some basic statistical info."
   ]
  },
  {
   "cell_type": "code",
   "execution_count": 18,
   "id": "0fcadb34",
   "metadata": {},
   "outputs": [
    {
     "name": "stdout",
     "output_type": "stream",
     "text": [
      "class:  ndarray\n",
      "shape:  (6, 5)\n",
      "strides:  (40, 8)\n",
      "itemsize:  8\n",
      "aligned:  True\n",
      "contiguous:  True\n",
      "fortran:  False\n",
      "data pointer: 0x555c6efe0160\n",
      "byteorder:  little\n",
      "byteswap:  False\n",
      "type: object\n"
     ]
    }
   ],
   "source": [
    "np.info(np_data)"
   ]
  },
  {
   "cell_type": "code",
   "execution_count": 19,
   "id": "57d2b18b",
   "metadata": {},
   "outputs": [
    {
     "name": "stdout",
     "output_type": "stream",
     "text": [
      "             People          Area         BIP\n",
      "count  5.000000e+00  5.000000e+00     5.00000\n",
      "mean   1.027863e+08  3.907400e+06  2716.20000\n",
      "std    6.759970e+07  4.904957e+06  1457.86083\n",
      "min    3.650310e+07  3.013380e+05  1529.00000\n",
      "25%    6.050172e+07  3.573850e+05  1798.00000\n",
      "50%    8.252165e+07  3.778350e+05  1850.00000\n",
      "75%    1.260450e+08  8.515770e+06  3466.00000\n",
      "max    2.083600e+08  9.984670e+06  4938.00000\n"
     ]
    }
   ],
   "source": [
    "print(pd_data.describe())"
   ]
  },
  {
   "cell_type": "markdown",
   "id": "4227e3ce",
   "metadata": {},
   "source": [
    "Show the last 4 rows of the data_frame"
   ]
  },
  {
   "cell_type": "code",
   "execution_count": 20,
   "id": "8d19153e",
   "metadata": {},
   "outputs": [
    {
     "data": {
      "text/plain": [
       "array([[b'Japan', b'126045000', b'377835', b'4938', b'YEN'],\n",
       "       [b'Canada', b'36503097', b'9984670', b'1529', b'CAD'],\n",
       "       [b'Italy', b'60501718', b'301338', b'1850', b'EUR'],\n",
       "       [b'Brazilia', b'208360000', b'8515770', b'1798', b'REAL']],\n",
       "      dtype=object)"
      ]
     },
     "execution_count": 20,
     "metadata": {},
     "output_type": "execute_result"
    }
   ],
   "source": [
    "np_data[-4: , :]"
   ]
  },
  {
   "cell_type": "markdown",
   "id": "7ca404ba",
   "metadata": {},
   "source": [
    "Let's cut off the nasty header"
   ]
  },
  {
   "cell_type": "code",
   "execution_count": 21,
   "id": "17fb1a9d",
   "metadata": {},
   "outputs": [
    {
     "data": {
      "text/plain": [
       "array([[b'Germany', b'82521653', b'357385', b'3466', b'EUR'],\n",
       "       [b'Japan', b'126045000', b'377835', b'4938', b'YEN'],\n",
       "       [b'Canada', b'36503097', b'9984670', b'1529', b'CAD'],\n",
       "       [b'Italy', b'60501718', b'301338', b'1850', b'EUR'],\n",
       "       [b'Brazilia', b'208360000', b'8515770', b'1798', b'REAL']],\n",
       "      dtype=object)"
      ]
     },
     "execution_count": 21,
     "metadata": {},
     "output_type": "execute_result"
    }
   ],
   "source": [
    "country_data = np.genfromtxt(url, delimiter=\",\", skip_header=1, dtype=(object))\n",
    "country_data"
   ]
  },
  {
   "cell_type": "markdown",
   "id": "585467bb",
   "metadata": {},
   "source": [
    "Show all the row of countries who have the EURO"
   ]
  },
  {
   "cell_type": "code",
   "execution_count": 22,
   "id": "6c74afaf",
   "metadata": {},
   "outputs": [
    {
     "data": {
      "text/plain": [
       "array([[b'Germany', b'82521653', b'357385', b'3466', b'EUR'],\n",
       "       [b'Italy', b'60501718', b'301338', b'1850', b'EUR']], dtype=object)"
      ]
     },
     "execution_count": 22,
     "metadata": {},
     "output_type": "execute_result"
    }
   ],
   "source": [
    "with_euro = country_data[:,4].astype(str) == 'EUR'\n",
    "country_data[with_euro, :]"
   ]
  },
  {
   "cell_type": "markdown",
   "id": "db028d74",
   "metadata": {},
   "source": [
    "Show only name and Currency in a new data frame"
   ]
  },
  {
   "cell_type": "code",
   "execution_count": 23,
   "id": "03f5af95",
   "metadata": {},
   "outputs": [
    {
     "data": {
      "text/plain": [
       "array([[b'Germany', b'EUR'],\n",
       "       [b'Japan', b'YEN'],\n",
       "       [b'Canada', b'CAD'],\n",
       "       [b'Italy', b'EUR'],\n",
       "       [b'Brazilia', b'REAL']], dtype=object)"
      ]
     },
     "execution_count": 23,
     "metadata": {},
     "output_type": "execute_result"
    }
   ],
   "source": [
    "country_data[:,[0,4]]"
   ]
  },
  {
   "cell_type": "markdown",
   "id": "22857f68",
   "metadata": {},
   "source": [
    "Show only the rows/countries that have more than 2000 BIP (it is in Milliarden USD Bruttoinlandsprodukt)"
   ]
  },
  {
   "cell_type": "code",
   "execution_count": 24,
   "id": "cbc006b6",
   "metadata": {},
   "outputs": [
    {
     "data": {
      "text/plain": [
       "array([[b'Germany', b'82521653', b'357385', b'3466', b'EUR'],\n",
       "       [b'Japan', b'126045000', b'377835', b'4938', b'YEN']], dtype=object)"
      ]
     },
     "execution_count": 24,
     "metadata": {},
     "output_type": "execute_result"
    }
   ],
   "source": [
    "bip_over_2000 = country_data[:,3].astype(int) > 2000\n",
    "country_data[bip_over_2000, :]"
   ]
  },
  {
   "cell_type": "markdown",
   "id": "1dfd1f74",
   "metadata": {},
   "source": [
    "Select all countries where with inhabitants between 50 and 150 Mio"
   ]
  },
  {
   "cell_type": "code",
   "execution_count": 25,
   "id": "37c3c33f",
   "metadata": {},
   "outputs": [
    {
     "data": {
      "text/plain": [
       "array([[b'Germany', b'82521653', b'357385', b'3466', b'EUR'],\n",
       "       [b'Japan', b'126045000', b'377835', b'4938', b'YEN'],\n",
       "       [b'Italy', b'60501718', b'301338', b'1850', b'EUR']], dtype=object)"
      ]
     },
     "execution_count": 25,
     "metadata": {},
     "output_type": "execute_result"
    }
   ],
   "source": [
    "inhabitants = country_data[:,1].astype(int) \n",
    "inhabitants_between_50_150_mio = (inhabitants >= 50000000) & (inhabitants <=150000000)\n",
    "country_data[inhabitants_between_50_150_mio, :]"
   ]
  },
  {
   "cell_type": "markdown",
   "id": "e9214d84",
   "metadata": {},
   "source": [
    "Change BIP to Bip"
   ]
  },
  {
   "cell_type": "code",
   "execution_count": 26,
   "id": "3f18fe9c",
   "metadata": {},
   "outputs": [
    {
     "data": {
      "text/plain": [
       "array([[b'Name', b'People', b'Area', 'Bip', b'Currency'],\n",
       "       [b'Germany', b'82521653', b'357385', b'3466', b'EUR'],\n",
       "       [b'Japan', b'126045000', b'377835', b'4938', b'YEN'],\n",
       "       [b'Canada', b'36503097', b'9984670', b'1529', b'CAD'],\n",
       "       [b'Italy', b'60501718', b'301338', b'1850', b'EUR'],\n",
       "       [b'Brazilia', b'208360000', b'8515770', b'1798', b'REAL']],\n",
       "      dtype=object)"
      ]
     },
     "execution_count": 26,
     "metadata": {},
     "output_type": "execute_result"
    }
   ],
   "source": [
    "np.where(np_data.astype(str) == \"BIP\", \"Bip\", np_data)"
   ]
  },
  {
   "cell_type": "markdown",
   "id": "2fa72793",
   "metadata": {},
   "source": [
    "Calculate the Bip sum"
   ]
  },
  {
   "cell_type": "code",
   "execution_count": 27,
   "id": "90d62d24",
   "metadata": {},
   "outputs": [
    {
     "data": {
      "text/plain": [
       "13581"
      ]
     },
     "execution_count": 27,
     "metadata": {},
     "output_type": "execute_result"
    }
   ],
   "source": [
    "country_data[:,3].astype(int).sum()"
   ]
  },
  {
   "cell_type": "markdown",
   "id": "722b25c2",
   "metadata": {},
   "source": [
    "Calculate the average people of all countries"
   ]
  },
  {
   "cell_type": "code",
   "execution_count": 28,
   "id": "f7775a62",
   "metadata": {},
   "outputs": [
    {
     "data": {
      "text/plain": [
       "102786293.6"
      ]
     },
     "execution_count": 28,
     "metadata": {},
     "output_type": "execute_result"
    }
   ],
   "source": [
    "country_data[:,1].astype(int).mean()"
   ]
  },
  {
   "cell_type": "markdown",
   "id": "94cabc0f",
   "metadata": {},
   "source": [
    "Sort by name alphabetically"
   ]
  },
  {
   "cell_type": "code",
   "execution_count": 29,
   "id": "d1adce7f",
   "metadata": {},
   "outputs": [
    {
     "data": {
      "text/plain": [
       "array([[b'Brazilia', b'82521653', b'357385', b'3466', b'EUR'],\n",
       "       [b'Canada', b'126045000', b'377835', b'4938', b'YEN'],\n",
       "       [b'Germany', b'36503097', b'9984670', b'1529', b'CAD'],\n",
       "       [b'Italy', b'60501718', b'301338', b'1850', b'EUR'],\n",
       "       [b'Japan', b'208360000', b'8515770', b'1798', b'REAL']],\n",
       "      dtype=object)"
      ]
     },
     "execution_count": 29,
     "metadata": {},
     "output_type": "execute_result"
    }
   ],
   "source": [
    "country_data[:,0].sort()\n",
    "country_data"
   ]
  },
  {
   "cell_type": "markdown",
   "id": "c3e3696b",
   "metadata": {},
   "source": [
    "Create a new data frame from the original where the area is changed as follows: all countries with > 1000000 get BIG and <= 1000000 get SMALL in the cell replaced!"
   ]
  },
  {
   "cell_type": "code",
   "execution_count": 30,
   "id": "53beeba4",
   "metadata": {},
   "outputs": [
    {
     "data": {
      "text/plain": [
       "array([[b'Brazilia', b'82521653', 'SMALL', b'3466', b'EUR'],\n",
       "       [b'Canada', b'126045000', 'SMALL', b'4938', b'YEN'],\n",
       "       [b'Germany', b'36503097', 'BIG', b'1529', b'CAD'],\n",
       "       [b'Italy', b'60501718', 'SMALL', b'1850', b'EUR'],\n",
       "       [b'Japan', b'208360000', 'BIG', b'1798', b'REAL']], dtype=object)"
      ]
     },
     "execution_count": 30,
     "metadata": {},
     "output_type": "execute_result"
    }
   ],
   "source": [
    "country_data_area_mod = country_data.copy()\n",
    "all_small = country_data_area_mod[:,2].astype(int) <= 1000000\n",
    "\n",
    "country_data_area_mod[all_small, 2] = \"SMALL\"\n",
    "country_data_area_mod[all_small == False, 2] = \"BIG\"\n",
    "\n",
    "country_data_area_mod\n"
   ]
  },
  {
   "cell_type": "code",
   "execution_count": null,
   "id": "d798b853",
   "metadata": {},
   "outputs": [],
   "source": []
  },
  {
   "cell_type": "code",
   "execution_count": null,
   "id": "eb7ec808",
   "metadata": {},
   "outputs": [],
   "source": []
  },
  {
   "cell_type": "code",
   "execution_count": null,
   "id": "643ead59",
   "metadata": {},
   "outputs": [],
   "source": []
  }
 ],
 "metadata": {
  "kernelspec": {
   "display_name": "Python 3",
   "language": "python",
   "name": "python3"
  },
  "language_info": {
   "codemirror_mode": {
    "name": "ipython",
    "version": 3
   },
   "file_extension": ".py",
   "mimetype": "text/x-python",
   "name": "python",
   "nbconvert_exporter": "python",
   "pygments_lexer": "ipython3",
   "version": "3.8.0"
  }
 },
 "nbformat": 4,
 "nbformat_minor": 5
}
